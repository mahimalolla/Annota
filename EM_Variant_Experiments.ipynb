{
  "nbformat": 4,
  "nbformat_minor": 0,
  "metadata": {
    "colab": {
      "name": "EM Variant Experiments.ipynb",
      "provenance": [],
      "collapsed_sections": []
    },
    "kernelspec": {
      "name": "python3",
      "display_name": "Python 3"
    },
    "language_info": {
      "name": "python"
    }
  },
  "cells": [
    {
      "cell_type": "code",
      "source": [
        "from google.colab import drive \n",
        "drive.mount('/content/drive')"
      ],
      "metadata": {
        "colab": {
          "base_uri": "https://localhost:8080/"
        },
        "id": "FnszPGeg2rbs",
        "outputId": "6841461e-28cb-4cc4-c8c1-cc29997e67d0"
      },
      "execution_count": null,
      "outputs": [
        {
          "output_type": "stream",
          "name": "stdout",
          "text": [
            "Mounted at /content/drive\n"
          ]
        }
      ]
    },
    {
      "cell_type": "code",
      "execution_count": null,
      "metadata": {
        "id": "XcWclS-31-4-",
        "colab": {
          "base_uri": "https://localhost:8080/"
        },
        "outputId": "4f99fe0f-7de7-4815-af58-14c8571e9429"
      },
      "outputs": [
        {
          "output_type": "stream",
          "name": "stdout",
          "text": [
            "name:  Jaya Power\n",
            "306\n",
            "name:  Jane Smith\n",
            "82\n",
            "name:  Thomas Cao\n",
            "90\n",
            "name:  Victor Clayton\n",
            "150\n",
            "name:  Jay\n",
            "95\n",
            "name:  Edith Stacy\n",
            "309\n",
            "name:  Uma Rose\n",
            "100\n",
            "name:  Guanyu Sun\n",
            "263\n"
          ]
        }
      ],
      "source": [
        "import json\n",
        "import os\n",
        "temp = '/content/drive/Shareddrives/Annota/NLPAI/Data/Phase2Misc/rq_map.json'\n",
        "with open(temp, 'r') as infile:\n",
        "    transcript_rq_lookup = json.load(infile)\n",
        "final = []\n",
        "files = os.listdir('/content/drive/Shareddrives/Annota/NLPAI/Data/Phase2Data/')\n",
        "files.remove('rq_expanded.json')\n",
        "RQ = 'Strengths, Weaknesses, Uniqueness'\n",
        "\n",
        "phase1 = [\"Edith Stacy\",\n",
        "\"Thomas Cao\",\n",
        "\"Jane Smith\",\n",
        "\"Uma Rose\",\n",
        "\"Jay\",\n",
        "\"Victor Clayton\",\n",
        "\"Guanyu Sun\",\n",
        "\"Jaya Power\"]\n",
        "\n",
        "def merge_JsonFiles(filename, res, test=0):\n",
        "    result = list()\n",
        "    for f1 in filename:\n",
        "      if test:\n",
        "        f1 = '/content/drive/Shareddrives/Annota/Data/annotated_transcripts/' + f1\n",
        "      else:\n",
        "        # if the current transcript doesn't have the current RQ\n",
        "        name = f1.split('.json')\n",
        "        if RQ not in transcript_rq_lookup[name[0]] or name[0] not in phase1:\n",
        "          continue\n",
        "        else:\n",
        "          print(\"name: \", name[0])\n",
        "        f1 = '/content/drive/Shareddrives/Annota/NLPAI/Data/Phase2Data/' + f1\n",
        "      prev_len = len(result)\n",
        "      with open(f1, 'r') as infile:\n",
        "        result.extend(json.load(infile))\n",
        "        print(len(result) - prev_len)\n",
        "      with open(res, 'w') as output_file:\n",
        "        json.dump(result, output_file)\n",
        "    return result\n",
        "    \n",
        "sw_data = merge_JsonFiles(files, 'appended.json')"
      ]
    },
    {
      "cell_type": "code",
      "source": [
        "##We'll only consider the documents that have grades for visualization purposes.\n",
        "\n",
        "#graded_docs = [sent for sent in sw_data]\n",
        "graded_docs = [sent for sent in sw_data if \"grader_annotations\" in sent.keys()]\n",
        "anns = [ann[\"id\"] for doc in graded_docs for ann in doc[\"annotations\"] if ann[\"ResearchQuestionId\"] == RQ ]\n",
        "dev_team = set([\"ann0_170\", \"ann0_169\", \"ann0_141\", \"ann0_124\", \"ann0_106\", \"ann0_95\", \"ann0_69\", \"ann0_42\"])\n",
        "anns = sorted(list(set(anns) - dev_team))\n",
        "\n",
        "len(anns)\n",
        "len(graded_docs)"
      ],
      "metadata": {
        "colab": {
          "base_uri": "https://localhost:8080/"
        },
        "id": "ciuL-OIf2n0Q",
        "outputId": "fc58d0fb-a2ff-4ca4-b4d0-f09cf2af4505"
      },
      "execution_count": null,
      "outputs": [
        {
          "output_type": "execute_result",
          "data": {
            "text/plain": [
              "681"
            ]
          },
          "metadata": {},
          "execution_count": 3
        }
      ]
    },
    {
      "cell_type": "code",
      "source": [
        "grade_map = {\"NOT_RELEVANT\": 0, \"RELEVANT\": 1, \"UNSURE\": 0, \"REQUIRED\": 2}\n",
        "grades = [grade_map[doc[\"grader_annotations\"][RQ]] for doc in graded_docs]\n",
        "binary_grades = [0 if grade <1 else 1 for grade in grades]"
      ],
      "metadata": {
        "id": "BEbhLi-C3EKZ"
      },
      "execution_count": null,
      "outputs": []
    },
    {
      "cell_type": "code",
      "source": [
        "for doc_index in range(len(graded_docs)):\n",
        "  ## I want to replace each list of annotations by a dictionary, where each key is an annotator id, and the value is the rest of the dict.\n",
        "  doc = graded_docs[doc_index]\n",
        "  doc[\"annotations\"] = {ann[\"id\"]:{\"ResearchQuestionId\": ann[\"ResearchQuestionId\"], \"text\": ann[\"text\"]} for ann in doc[\"annotations\"]}\n",
        "  graded_docs[doc_index] = doc"
      ],
      "metadata": {
        "id": "1DYD0RMJ8OhI"
      },
      "execution_count": null,
      "outputs": []
    },
    {
      "cell_type": "code",
      "source": [
        "import numpy as np\n",
        "import matplotlib.pyplot as plt"
      ],
      "metadata": {
        "id": "mJFaB5sCeCj3"
      },
      "execution_count": null,
      "outputs": []
    },
    {
      "cell_type": "code",
      "source": [
        "## For each doc in graded_docs, we represent it by a list of annotations from each annotator. If that annotator is present, we take their annotation, otherwise, assume 0.\n",
        "doc_anns = []\n",
        "\n",
        "for doc in graded_docs:\n",
        "  annotation = [1.0 if id in doc[\"annotations\"].keys() else 0.0 for id in anns]\n",
        "  doc_anns.append(np.array(annotation))\n",
        "\n",
        "doc_anns = np.array(doc_anns)"
      ],
      "metadata": {
        "id": "XvnVWVte64Xd"
      },
      "execution_count": null,
      "outputs": []
    },
    {
      "cell_type": "code",
      "source": [
        "anns"
      ],
      "metadata": {
        "colab": {
          "base_uri": "https://localhost:8080/"
        },
        "id": "3jChX4jt_non",
        "outputId": "d98882c6-08ee-4388-afa2-f3d63ec4bd7f"
      },
      "execution_count": null,
      "outputs": [
        {
          "output_type": "execute_result",
          "data": {
            "text/plain": [
              "['ann0_10',\n",
              " 'ann0_101',\n",
              " 'ann0_110',\n",
              " 'ann0_112',\n",
              " 'ann0_121',\n",
              " 'ann0_14',\n",
              " 'ann0_142',\n",
              " 'ann0_143',\n",
              " 'ann0_15',\n",
              " 'ann0_166',\n",
              " 'ann0_171',\n",
              " 'ann0_173',\n",
              " 'ann0_175',\n",
              " 'ann0_176',\n",
              " 'ann0_194',\n",
              " 'ann0_196',\n",
              " 'ann0_199',\n",
              " 'ann0_203',\n",
              " 'ann0_204',\n",
              " 'ann0_212',\n",
              " 'ann0_213',\n",
              " 'ann0_223',\n",
              " 'ann0_228',\n",
              " 'ann0_231',\n",
              " 'ann0_234',\n",
              " 'ann0_31',\n",
              " 'ann0_33',\n",
              " 'ann0_50',\n",
              " 'ann0_54',\n",
              " 'ann0_75',\n",
              " 'ann0_85',\n",
              " 'ann0_86',\n",
              " 'ann0_92',\n",
              " 'ann0_97']"
            ]
          },
          "metadata": {},
          "execution_count": 8
        }
      ]
    },
    {
      "cell_type": "markdown",
      "source": [
        "Implement the First Step of EM Variant:"
      ],
      "metadata": {
        "id": "B8dF6JOq-JEw"
      }
    },
    {
      "cell_type": "code",
      "source": [
        "kmed_steps = 1000\n",
        "em_steps = 1"
      ],
      "metadata": {
        "id": "DFI8a3Gxv7WD"
      },
      "execution_count": null,
      "outputs": []
    },
    {
      "cell_type": "code",
      "source": [
        "true_conf = np.ones((len(anns), 2))\n",
        "\n",
        "##Accuracy on zeros\n",
        "##This is going to be the number of ones where they predicted zero correctly / the total number of times they predicted zero \n",
        "true_conf[:, 0] = np.matmul(1 - doc_anns.T, 1 - np.array(binary_grades))/np.sum(1 - doc_anns.T, axis = 1)\n",
        "true_conf[:, 1] = np.matmul(doc_anns.T, np.array(binary_grades))/np.sum(doc_anns.T, axis = 1)\n",
        "\n",
        "#true_conf /= np.sum(true_conf, axis = 0)"
      ],
      "metadata": {
        "id": "w8Tq2LlmmhTu"
      },
      "execution_count": null,
      "outputs": []
    },
    {
      "cell_type": "code",
      "source": [
        "np.mean(true_conf, axis = 0)"
      ],
      "metadata": {
        "colab": {
          "base_uri": "https://localhost:8080/"
        },
        "id": "huh069GfpQex",
        "outputId": "11ef0258-115f-436e-e2ed-d02823e6dbc0"
      },
      "execution_count": null,
      "outputs": [
        {
          "output_type": "execute_result",
          "data": {
            "text/plain": [
              "array([0.81980973, 0.41615882])"
            ]
          },
          "metadata": {},
          "execution_count": 11
        }
      ]
    },
    {
      "cell_type": "code",
      "source": [
        "import random\n",
        "## We represent confidence as a single matrix. \n",
        "## It has n rows, one for each annotator, and two columns, one for the confidence of predicting 0, another for the confidence of predicting 1.\n",
        "## We initialize our confidence in the predictions of all annotators of 0 or 1 at 1.\n",
        "\n",
        "confidence = np.ones((len(anns), 2)) \n",
        "\n",
        "## Count is accumulated repeatedly. This is an Expectation Step.\n",
        "## This is a normalized weighted vote.\n",
        "\n",
        "for em_step in range(em_steps):\n",
        "\n",
        "  print(\"Iteration\", em_step,\":\")\n",
        "\n",
        "  count = len(anns) * (np.matmul(doc_anns, confidence[:, 1]*confidence[:, 1]) / (np.matmul(doc_anns, confidence[:, 1]*confidence[:, 1]) + np.matmul(1 - doc_anns, confidence[:, 0]*confidence[:, 0])))\n",
        "\n",
        "  ## Now, we cluster\n",
        "  centroids = random.choices(list(set(count)), k = 3)\n",
        "\n",
        "  alloc = [0 for i in range(len(count))]\n",
        "\n",
        "  groups = dict()\n",
        "\n",
        "  for i in range(kmed_steps):\n",
        "\n",
        "    centroids = sorted(centroids)\n",
        "    ##Pick the ideal allocation by centroids\n",
        "    ##alloc should be the elements of centroids that each element of count is closest to.\n",
        "    \n",
        "    for c in range(len(count)):\n",
        "\n",
        "      alloc[c] = np.argmin([np.abs(count[c] - centroid) for centroid in centroids])\n",
        "\n",
        "    ##Pick the ideal centroids, will be the median of the counts per allocs.\n",
        "\n",
        "    for centroid_index in range(len(centroids)): #(For each centroid, collect all its assignees, then compute their median as the centroid)\n",
        "      assignees = np.where(np.array(alloc) == centroid_index)[0]\n",
        "      #assert len(assignees) != 0, (centroids, centroid_index, alloc)\n",
        "      centroids[centroid_index] = np.median(np.array([count[assignee] for assignee in assignees]))\n",
        "      groups[centroid_index] =  assignees\n",
        "\n",
        "  ##Maximization Step:\n",
        "\n",
        "  lum = set(groups[0]) | set(groups[1])\n",
        "  muh = set(groups[1]) | set(groups[2])\n",
        "  assert len(lum) + len(muh) >= len(graded_docs)\n",
        "  confidence[:, 0] = np.sum(1 - np.array([doc_anns[j, :] for j in lum]), axis = 0)/np.sum(1 - doc_anns, axis = 0)\n",
        "  confidence[:, 1] = np.sum(np.array([doc_anns[j, :] for j in muh]), axis = 0)/np.sum(doc_anns, axis = 0)\n",
        "#  confidence[:, 0]/=np.sum(confidence[:, 0])\n",
        "#  confidence[:, 1]/=np.sum(confidence[:, 1])\n",
        "\n",
        "  \n",
        "  low = [i for i in range(len(graded_docs)) if grades[i] == 0]\n",
        "  hi = [i for i in range(len(graded_docs)) if grades[i] == 2]\n",
        "  mid = [i for i in range(len(graded_docs)) if grades[i] == 1]\n",
        "  low_counts = [count[i] for i in low]\n",
        "  mid_counts = [count[i] for i in mid]\n",
        "  hi_counts = [count[i] for i in hi]\n",
        "  cluster_bounds = [(centroids[0] + centroids[1])/2, (centroids[1] + centroids[2])/2]\n",
        "  print(\"Centroids: \", centroids)\n",
        "  print(\"Cluster Boundaries: \", cluster_bounds)\n",
        "  plt.figure()\n",
        "  plt.hlines(1, 1, 100)  # Draw a horizontal line\n",
        "  plt.eventplot(low_counts, orientation='horizontal', colors='b')\n",
        "  plt.eventplot(cluster_bounds, orientation = 'horizontal', colors = 'black', linelengths = 2)\n",
        "  plt.axis('off')\n",
        "  plt.show()\n",
        "  plt.figure()\n",
        "  plt.hlines(1, 1, 100)  # Draw a horizontal line\n",
        "  plt.eventplot(mid_counts, orientation='horizontal', colors='g')\n",
        "  plt.eventplot(cluster_bounds, orientation = 'horizontal', colors = 'black', linelengths = 2)\n",
        "  plt.axis('off')\n",
        "  plt.show()\n",
        "  plt.figure()\n",
        "  plt.hlines(1, 0, 100)  # Draw a horizontal line\n",
        "  plt.eventplot(hi_counts, orientation='horizontal', colors='r')\n",
        "  plt.eventplot(cluster_bounds, orientation = 'horizontal', colors = 'black', linelengths = 2)\n",
        "  plt.axis('off')\n",
        "  plt.show()\n",
        "\n",
        "for c in range(len(count)):\n",
        "    alloc[c] = centroids[alloc[c]]"
      ],
      "metadata": {
        "colab": {
          "base_uri": "https://localhost:8080/",
          "height": 450
        },
        "id": "6Wrx_Q_k95jr",
        "outputId": "14d0d095-0829-41f0-b8a0-4dd797385d7a"
      },
      "execution_count": null,
      "outputs": [
        {
          "output_type": "stream",
          "name": "stdout",
          "text": [
            "Iteration 0 :\n"
          ]
        },
        {
          "output_type": "error",
          "ename": "KeyboardInterrupt",
          "evalue": "ignored",
          "traceback": [
            "\u001b[0;31m---------------------------------------------------------------------------\u001b[0m",
            "\u001b[0;31mKeyboardInterrupt\u001b[0m                         Traceback (most recent call last)",
            "\u001b[0;32m<ipython-input-12-d159ec123b20>\u001b[0m in \u001b[0;36m<module>\u001b[0;34m()\u001b[0m\n\u001b[1;32m     30\u001b[0m     \u001b[0;32mfor\u001b[0m \u001b[0mc\u001b[0m \u001b[0;32min\u001b[0m \u001b[0mrange\u001b[0m\u001b[0;34m(\u001b[0m\u001b[0mlen\u001b[0m\u001b[0;34m(\u001b[0m\u001b[0mcount\u001b[0m\u001b[0;34m)\u001b[0m\u001b[0;34m)\u001b[0m\u001b[0;34m:\u001b[0m\u001b[0;34m\u001b[0m\u001b[0;34m\u001b[0m\u001b[0m\n\u001b[1;32m     31\u001b[0m \u001b[0;34m\u001b[0m\u001b[0m\n\u001b[0;32m---> 32\u001b[0;31m       \u001b[0malloc\u001b[0m\u001b[0;34m[\u001b[0m\u001b[0mc\u001b[0m\u001b[0;34m]\u001b[0m \u001b[0;34m=\u001b[0m \u001b[0mnp\u001b[0m\u001b[0;34m.\u001b[0m\u001b[0margmin\u001b[0m\u001b[0;34m(\u001b[0m\u001b[0;34m[\u001b[0m\u001b[0mnp\u001b[0m\u001b[0;34m.\u001b[0m\u001b[0mabs\u001b[0m\u001b[0;34m(\u001b[0m\u001b[0mcount\u001b[0m\u001b[0;34m[\u001b[0m\u001b[0mc\u001b[0m\u001b[0;34m]\u001b[0m \u001b[0;34m-\u001b[0m \u001b[0mcentroid\u001b[0m\u001b[0;34m)\u001b[0m \u001b[0;32mfor\u001b[0m \u001b[0mcentroid\u001b[0m \u001b[0;32min\u001b[0m \u001b[0mcentroids\u001b[0m\u001b[0;34m]\u001b[0m\u001b[0;34m)\u001b[0m\u001b[0;34m\u001b[0m\u001b[0;34m\u001b[0m\u001b[0m\n\u001b[0m\u001b[1;32m     33\u001b[0m \u001b[0;34m\u001b[0m\u001b[0m\n\u001b[1;32m     34\u001b[0m     \u001b[0;31m##Pick the ideal centroids, will be the median of the counts per allocs.\u001b[0m\u001b[0;34m\u001b[0m\u001b[0;34m\u001b[0m\u001b[0;34m\u001b[0m\u001b[0m\n",
            "\u001b[0;32m<__array_function__ internals>\u001b[0m in \u001b[0;36margmin\u001b[0;34m(*args, **kwargs)\u001b[0m\n",
            "\u001b[0;32m/usr/local/lib/python3.7/dist-packages/numpy/core/fromnumeric.py\u001b[0m in \u001b[0;36margmin\u001b[0;34m(a, axis, out)\u001b[0m\n\u001b[1;32m   1274\u001b[0m \u001b[0;34m\u001b[0m\u001b[0m\n\u001b[1;32m   1275\u001b[0m     \"\"\"\n\u001b[0;32m-> 1276\u001b[0;31m     \u001b[0;32mreturn\u001b[0m \u001b[0m_wrapfunc\u001b[0m\u001b[0;34m(\u001b[0m\u001b[0ma\u001b[0m\u001b[0;34m,\u001b[0m \u001b[0;34m'argmin'\u001b[0m\u001b[0;34m,\u001b[0m \u001b[0maxis\u001b[0m\u001b[0;34m=\u001b[0m\u001b[0maxis\u001b[0m\u001b[0;34m,\u001b[0m \u001b[0mout\u001b[0m\u001b[0;34m=\u001b[0m\u001b[0mout\u001b[0m\u001b[0;34m)\u001b[0m\u001b[0;34m\u001b[0m\u001b[0;34m\u001b[0m\u001b[0m\n\u001b[0m\u001b[1;32m   1277\u001b[0m \u001b[0;34m\u001b[0m\u001b[0m\n\u001b[1;32m   1278\u001b[0m \u001b[0;34m\u001b[0m\u001b[0m\n",
            "\u001b[0;32m/usr/local/lib/python3.7/dist-packages/numpy/core/fromnumeric.py\u001b[0m in \u001b[0;36m_wrapfunc\u001b[0;34m(obj, method, *args, **kwds)\u001b[0m\n\u001b[1;32m     52\u001b[0m     \u001b[0mbound\u001b[0m \u001b[0;34m=\u001b[0m \u001b[0mgetattr\u001b[0m\u001b[0;34m(\u001b[0m\u001b[0mobj\u001b[0m\u001b[0;34m,\u001b[0m \u001b[0mmethod\u001b[0m\u001b[0;34m,\u001b[0m \u001b[0;32mNone\u001b[0m\u001b[0;34m)\u001b[0m\u001b[0;34m\u001b[0m\u001b[0;34m\u001b[0m\u001b[0m\n\u001b[1;32m     53\u001b[0m     \u001b[0;32mif\u001b[0m \u001b[0mbound\u001b[0m \u001b[0;32mis\u001b[0m \u001b[0;32mNone\u001b[0m\u001b[0;34m:\u001b[0m\u001b[0;34m\u001b[0m\u001b[0;34m\u001b[0m\u001b[0m\n\u001b[0;32m---> 54\u001b[0;31m         \u001b[0;32mreturn\u001b[0m \u001b[0m_wrapit\u001b[0m\u001b[0;34m(\u001b[0m\u001b[0mobj\u001b[0m\u001b[0;34m,\u001b[0m \u001b[0mmethod\u001b[0m\u001b[0;34m,\u001b[0m \u001b[0;34m*\u001b[0m\u001b[0margs\u001b[0m\u001b[0;34m,\u001b[0m \u001b[0;34m**\u001b[0m\u001b[0mkwds\u001b[0m\u001b[0;34m)\u001b[0m\u001b[0;34m\u001b[0m\u001b[0;34m\u001b[0m\u001b[0m\n\u001b[0m\u001b[1;32m     55\u001b[0m \u001b[0;34m\u001b[0m\u001b[0m\n\u001b[1;32m     56\u001b[0m     \u001b[0;32mtry\u001b[0m\u001b[0;34m:\u001b[0m\u001b[0;34m\u001b[0m\u001b[0;34m\u001b[0m\u001b[0m\n",
            "\u001b[0;31mKeyboardInterrupt\u001b[0m: "
          ]
        }
      ]
    },
    {
      "cell_type": "code",
      "source": [
        "print(np.corrcoef(confidence[:, 0], true_conf[:, 0]))\n",
        "plt.scatter(confidence[:, 0], true_conf[:, 0])"
      ],
      "metadata": {
        "colab": {
          "base_uri": "https://localhost:8080/",
          "height": 320
        },
        "id": "mU40EK9PqPnd",
        "outputId": "4708c8a4-33e2-4b05-8851-e0342769e9a3"
      },
      "execution_count": null,
      "outputs": [
        {
          "output_type": "stream",
          "name": "stdout",
          "text": [
            "[[1.         0.80384965]\n",
            " [0.80384965 1.        ]]\n"
          ]
        },
        {
          "output_type": "execute_result",
          "data": {
            "text/plain": [
              "<matplotlib.collections.PathCollection at 0x7fa3079af4d0>"
            ]
          },
          "metadata": {},
          "execution_count": 13
        },
        {
          "output_type": "display_data",
          "data": {
            "text/plain": [
              "<Figure size 432x288 with 1 Axes>"
            ],
            "image/png": "[encoded data removed]"
          },
          "metadata": {
            "needs_background": "light"
          }
        }
      ]
    },
    {
      "cell_type": "code",
      "source": [
        "print(np.corrcoef(confidence[:, 1], true_conf[:, 1]))\n",
        "plt.scatter(confidence[:, 1], true_conf[:, 1])"
      ],
      "metadata": {
        "colab": {
          "base_uri": "https://localhost:8080/",
          "height": 320
        },
        "id": "5e2rvehBqUbS",
        "outputId": "0347df04-351e-441a-9d6a-6634824d532f"
      },
      "execution_count": null,
      "outputs": [
        {
          "output_type": "stream",
          "name": "stdout",
          "text": [
            "[[1.        0.7918248]\n",
            " [0.7918248 1.       ]]\n"
          ]
        },
        {
          "output_type": "execute_result",
          "data": {
            "text/plain": [
              "<matplotlib.collections.PathCollection at 0x7fa3079819d0>"
            ]
          },
          "metadata": {},
          "execution_count": 14
        },
        {
          "output_type": "display_data",
          "data": {
            "text/plain": [
              "<Figure size 432x288 with 1 Axes>"
            ],
            "image/png": "[encoded data removed]"
          },
          "metadata": {
            "needs_background": "light"
          }
        }
      ]
    },
    {
      "cell_type": "code",
      "source": [
        "import matplotlib.cm as cm\n",
        "import matplotlib.animation as animation"
      ],
      "metadata": {
        "id": "5UBztoTTOXbw"
      },
      "execution_count": null,
      "outputs": []
    },
    {
      "cell_type": "code",
      "source": [
        "em_steps = 1"
      ],
      "metadata": {
        "id": "ojgB7cYQil97"
      },
      "execution_count": null,
      "outputs": []
    },
    {
      "cell_type": "code",
      "source": [
        "import random\n",
        "## We represent confidence as a single matrix. \n",
        "## It has n rows, one for each annotator, and two columns, one for the confidence of predicting 0, another for the confidence of predicting 1.\n",
        "## We initialize our confidence in the predictions of all annotators of 0 or 1 at 1.\n",
        "\n",
        "confidence = np.ones((len(anns), 2)) \n",
        "\n",
        "## Count is accumulated repeatedly. This is an Expectation Step.\n",
        "## This is a normalized weighted vote.\n",
        "plt.figure()\n",
        "\n",
        "frames = []\n",
        "\n",
        "for em_step in range(em_steps):\n",
        "\n",
        "  count = len(anns) * (np.matmul(doc_anns, confidence[:, 1] * confidence[:, 1]) / (np.matmul(doc_anns, confidence[:, 1] * confidence[:, 1]) + np.matmul(1 - doc_anns, confidence[:, 0] * confidence[:, 0])))\n",
        "\n",
        "  ## Now, we cluster\n",
        "  centroids = random.choices(count, k = 3)\n",
        "\n",
        "  alloc = [0 for i in range(len(count))]\n",
        "\n",
        "  groups = dict()\n",
        "\n",
        "  for i in range(kmed_steps):\n",
        "\n",
        "    centroids = sorted(centroids)\n",
        "\n",
        "    ##Pick the ideal allocation by centroids\n",
        "    ##alloc should be the elements of centroids that each element of count is closest to.\n",
        "    \n",
        "    for c in range(len(count)):\n",
        "\n",
        "      alloc[c] = np.argmin([np.abs(count[c] - centroid) for centroid in centroids])\n",
        "\n",
        "    ##Pick the ideal centroids, will be the median of the counts per allocs.\n",
        "\n",
        "    for centroid_index in range(len(centroids)): #(For each centroid, collect all its assignees, then compute their median as the centroid)\n",
        "      assignees = np.where(np.array(alloc) == centroid_index)[0]\n",
        "      centroids[centroid_index] = np.median(np.array([count[assignee] for assignee in assignees]))\n",
        "      groups[centroid_index] =  assignees\n",
        "\n",
        "  ##Maximization Step:\n",
        "\n",
        "  lum = set(groups[0]) | set(groups[1])\n",
        "  muh = set(groups[1]) | set(groups[2])\n",
        "  assert len(lum) + len(muh) >= len(graded_docs)\n",
        "  confidence[:, 0] = np.sum(1 - np.array([doc_anns[j, :] for j in lum]), axis = 0)/np.sum(1 - doc_anns, axis = 0)\n",
        "  confidence[:, 1] = np.sum(np.array([doc_anns[j, :] for j in muh]), axis = 0)/np.sum(doc_anns, axis = 0)\n",
        "  confidence[:, 0]/=np.sum(confidence[:, 0])\n",
        "  confidence[:, 1]/=np.sum(confidence[:, 1])\n",
        "\n",
        "  low = [i for i in range(len(graded_docs)) if grades[i] == 0]\n",
        "  hi = [i for i in range(len(graded_docs)) if grades[i] == 2]\n",
        "  mid = [i for i in range(len(graded_docs)) if grades[i] == 1]\n",
        "  #plt.hlines(1, 1, 100)  # Draw a horizontal line\n",
        "\n",
        "  low_counts = [count[i] for i in low]\n",
        "  mid_counts = [count[i] for i in mid]\n",
        "  hi_counts = [count[i] for i in hi]\n",
        "  fig1, ax1 = plt.subplots()\n",
        "  ax1.set_title('BoxPlot of Group vs Score')\n",
        "  ax1.boxplot(np.array([low_counts, mid_counts, hi_counts]).T)\n",
        "  #plt.eventplot(low_counts, orientation='horizontal', colors='b')\n",
        "  #plt.eventplot(mid_counts, orientation='horizontal', colors='g')\n",
        "  #plt.eventplot(hi_counts, orientation='horizontal', colors='r')\n",
        "  \n",
        "  plt.show()\n",
        "\n",
        "for c in range(len(count)):\n",
        "  alloc[c] = centroids[alloc[c]]"
      ],
      "metadata": {
        "colab": {
          "base_uri": "https://localhost:8080/",
          "height": 410
        },
        "id": "KawHXln1pXZa",
        "outputId": "8ebcfa04-d746-4651-ce16-b3765bfa1459"
      },
      "execution_count": null,
      "outputs": [
        {
          "output_type": "stream",
          "name": "stderr",
          "text": [
            "/usr/local/lib/python3.7/dist-packages/numpy/core/fromnumeric.py:3441: RuntimeWarning: Mean of empty slice.\n",
            "  out=out, **kwargs)\n",
            "/usr/local/lib/python3.7/dist-packages/numpy/core/_methods.py:189: RuntimeWarning: invalid value encountered in double_scalars\n",
            "  ret = ret.dtype.type(ret / rcount)\n",
            "/usr/local/lib/python3.7/dist-packages/ipykernel_launcher.py:63: VisibleDeprecationWarning: Creating an ndarray from ragged nested sequences (which is a list-or-tuple of lists-or-tuples-or ndarrays with different lengths or shapes) is deprecated. If you meant to do this, you must specify 'dtype=object' when creating the ndarray.\n"
          ]
        },
        {
          "output_type": "display_data",
          "data": {
            "text/plain": [
              "<Figure size 432x288 with 0 Axes>"
            ]
          },
          "metadata": {}
        },
        {
          "output_type": "display_data",
          "data": {
            "text/plain": [
              "<Figure size 432x288 with 1 Axes>"
            ],
            "image/png": "[encoded data removed]"
          },
          "metadata": {
            "needs_background": "light"
          }
        }
      ]
    },
    {
      "cell_type": "markdown",
      "source": [
        "What if we used true confidence?"
      ],
      "metadata": {
        "id": "n2z93yeO1PqS"
      }
    },
    {
      "cell_type": "code",
      "source": [
        "import random\n",
        "## We represent confidence as a single matrix. \n",
        "## It has n rows, one for each annotator, and two columns, one for the confidence of predicting 0, another for the confidence of predicting 1.\n",
        "## We initialize our confidence in the predictions of all annotators of 0 or 1 at 1.\n",
        "\n",
        "confidence = true_conf\n",
        "\n",
        "## Count is accumulated repeatedly. This is an Expectation Step.\n",
        "## This is a normalized weighted vote.\n",
        "plt.figure()\n",
        "\n",
        "frames = []\n",
        "power = 4\n",
        "for em_step in range(1):\n",
        "\n",
        "  count = len(anns) * (np.matmul(doc_anns, np.power(confidence[:, 1], power)) / (np.matmul(doc_anns, np.power(confidence[:, 1], power)) + np.matmul(1 - doc_anns, np.power(confidence[:, 0], power))))\n",
        "\n",
        "  ## Now, we cluster\n",
        "  centroids = random.sample(list(set(count)), 3)\n",
        "\n",
        "  alloc = [0 for i in range(len(count))]\n",
        "\n",
        "  groups = dict()\n",
        "\n",
        "  for i in range(kmed_steps):\n",
        "\n",
        "    centroids = sorted(centroids)\n",
        "\n",
        "    ##Pick the ideal allocation by centroids\n",
        "    ##alloc should be the elements of centroids that each element of count is closest to.\n",
        "    \n",
        "    for c in range(len(count)):\n",
        "\n",
        "      alloc[c] = np.argmin([np.abs(count[c] - centroid) for centroid in centroids])\n",
        "\n",
        "    ##Pick the ideal centroids, will be the median of the counts per allocs.\n",
        "\n",
        "    for centroid_index in range(len(centroids)): #(For each centroid, collect all its assignees, then compute their median as the centroid)\n",
        "      assignees = np.where(np.array(alloc) == centroid_index)[0]\n",
        "      centroids[centroid_index] = np.median(np.array([count[assignee] for assignee in assignees]))\n",
        "      groups[centroid_index] =  list(assignees)\n",
        "\n",
        "  ##Maximization Step:\n",
        "\n",
        "  lum = set(groups[0]) | set(groups[1])\n",
        "  muh = set(groups[1]) | set(groups[2])\n",
        "  assert len(lum) + len(muh) >= len(graded_docs)\n",
        "\n",
        "  low = [i for i in range(len(graded_docs)) if grades[i] == 0]\n",
        "  hi = [i for i in range(len(graded_docs)) if grades[i] == 2]\n",
        "  mid = [i for i in range(len(graded_docs)) if grades[i] == 1]\n",
        "  centroid_boundaries = [(centroids[0] + centroids[1])/2, (centroids[1] + centroids[2])/2]\n",
        "  \n",
        "  low_counts = [count[i] for i in low]\n",
        "  mid_counts = [count[i] for i in mid]\n",
        "  hi_counts = [count[i] for i in hi]\n",
        "  \n",
        "  fig1, ax1 = plt.subplots()\n",
        "  ax1.set_title('BoxPlot of Group vs Score')\n",
        "  ax1.boxplot(np.array([low_counts, mid_counts, hi_counts], dtype = object).T)\n",
        "  ax1.hlines(centroid_boundaries[0], 0, 4)  # Draw a horizontal line\n",
        "  ax1.hlines(centroid_boundaries[1], 0, 4)  # Draw a horizontal line\n",
        "\n",
        "  ##For all docs,  if it's non-rel, take NON-RELEVANT and RELEVANT as correct.\n",
        "  ##For all docs, if it's req, take RELEVANT AND REQUIRED as correct.\n",
        "\n",
        "  print(\"\\nTruly NOT RELEVANT:\")\n",
        "  not_rel_zero = len([1 for count_index in low if count_index in groups[0]])\n",
        "  not_rel_one = len([1 for count_index in low if count_index in groups[1]])\n",
        "  not_rel_two = len([1 for count_index in low if count_index in groups[2]])\n",
        "  not_rel = len(low)\n",
        "  print(\"Predicted NOT RELEVANT: \", not_rel_zero, \", Percent: \", 100 * not_rel_zero/not_rel)\n",
        "  print(\"Predicted RELEVANT: \", not_rel_one, \", Percent: \", 100 * not_rel_one/not_rel)\n",
        "  print(\"Predicted REQUIRED: \", not_rel_two, \", Percent: \", 100 * not_rel_two/not_rel)\n",
        "  print(\"Total number of truly NOT RELEVANT: \", not_rel)\n",
        "\n",
        "  print(\"\\nTruly RELEVANT:\")\n",
        "  rel_zero = len([1 for count_index in mid if count_index in groups[0]])\n",
        "  rel_one = len([1 for count_index in mid if count_index in groups[1]])\n",
        "  rel_two = len([1 for count_index in mid if count_index in groups[2]])\n",
        "  rel = len(mid)\n",
        "  print(\"Predicted NOT RELEVANT: \", rel_zero, \", Percent: \", 100 * rel_zero/rel)\n",
        "  print(\"Predicted RELEVANT: \", rel_one, \", Percent: \", 100 * rel_one/rel)\n",
        "  print(\"Predicted REQUIRED: \", rel_two, \", Percent: \", 100 * rel_two/rel)\n",
        "  print(\"Total number of truly RELEVANT: \", rel)\n",
        "\n",
        "  print(\"\\nTruly REQUIRED:\")\n",
        "  req_zero = len([1 for count_index in hi if count_index in groups[0]])\n",
        "  req_one = len([1 for count_index in hi if count_index in groups[1]])\n",
        "  req_two = len([1 for count_index in hi if count_index in groups[2]])\n",
        "  req = len(hi)\n",
        "  print(\"Predicted NOT RELEVANT: \", req_zero, \", Percent: \", 100 * req_zero/req)\n",
        "  print(\"Predicted RELEVANT: \", req_one, \", Percent: \", 100 * req_one/req)\n",
        "  print(\"Predicted REQUIRED: \", req_two, \", Percent: \", 100 * req_two/req)\n",
        "  print(\"Total number of truly REQUIRED: \", req)\n",
        "  \n",
        "  try:\n",
        "    non_rel_prec = len([1 for i in low if i in set(groups[0])|set(groups[1])])/len(groups[0])\n",
        "    ##Recall: TP/(TP + FN)\n",
        "    non_rel_recall = len([1 for i in low if i in set(groups[0])|set(groups[1])])/len(low)\n",
        "    non_rel_f1 = (2 * non_rel_prec * non_rel_recall)/(non_rel_prec + non_rel_recall)\n",
        "\n",
        "    ##Class Required:\n",
        "    ##Precision: TP/(TP + FP)\n",
        "    req_prec = len([1 for i in hi if i in set(groups[2])|set(groups[1])])/len(groups[2])\n",
        "    ##Recall: TP/(TP + FN)\n",
        "    req_recall = len([1 for i in hi if i in set(groups[2])|set(groups[1])])/len(hi)\n",
        "    req_f1 = (2 * req_prec * req_recall)/(req_prec + req_recall)\n",
        "    print(\"Macro F1: \", (req_f1 + non_rel_f1)/2)\n",
        "    predicted_grades = []\n",
        "    predicted_grades_2 = []\n",
        "    for i in range(len(count)):\n",
        "      icount = count[i]\n",
        "      mid_centroid = centroids[1]\n",
        "      avg_centroid = (centroids[0] + centroids[2])/2\n",
        "      if(icount <= mid_centroid):\n",
        "        predicted_grades.append(0)\n",
        "      elif(icount > mid_centroid):\n",
        "        predicted_grades.append(1)\n",
        "      if(icount <= avg_centroid):\n",
        "        predicted_grades_2.append(0)\n",
        "      elif(icount > avg_centroid):\n",
        "        predicted_grades_2.append(1)\n",
        "\n",
        "    grades = np.array(grades)\n",
        "    test = grades != 1\n",
        "    pred_grad = np.array(predicted_grades)\n",
        "    pred_grad_2 = np.array(predicted_grades_2)\n",
        "    bin_grad = grades.copy()\n",
        "    bin_grad[grades >= 1] = 1 \n",
        "    print(\"True Macro F1 (Middle-Centroid): \", f1_score(bin_grad[test], pred_grad[test], average = \"macro\"))\n",
        "    print(\"True Macro F1 (Average-Centroid): \", f1_score(bin_grad[test], pred_grad_2[test], average = \"macro\"))\n",
        "    plt.show()\n",
        "\n",
        "  except:\n",
        "    print(\"Some group was empty\")\n",
        "\n",
        "for c in range(len(count)):\n",
        "  alloc[c] = centroids[alloc[c]]"
      ],
      "metadata": {
        "colab": {
          "base_uri": "https://localhost:8080/",
          "height": 682
        },
        "id": "icV0Qcjs1PYr",
        "outputId": "d01cb959-73c5-4030-b699-a2bc12083133"
      },
      "execution_count": null,
      "outputs": [
        {
          "output_type": "stream",
          "name": "stdout",
          "text": [
            "\n",
            "Truly NOT RELEVANT:\n",
            "Predicted NOT RELEVANT:  372 , Percent:  68.76155268022181\n",
            "Predicted RELEVANT:  148 , Percent:  27.35674676524954\n",
            "Predicted REQUIRED:  21 , Percent:  3.8817005545286505\n",
            "Total number of truly NOT RELEVANT:  541\n",
            "\n",
            "Truly RELEVANT:\n",
            "Predicted NOT RELEVANT:  33 , Percent:  32.03883495145631\n",
            "Predicted RELEVANT:  43 , Percent:  41.74757281553398\n",
            "Predicted REQUIRED:  27 , Percent:  26.21359223300971\n",
            "Total number of truly RELEVANT:  103\n",
            "\n",
            "Truly REQUIRED:\n",
            "Predicted NOT RELEVANT:  5 , Percent:  13.513513513513514\n",
            "Predicted RELEVANT:  7 , Percent:  18.91891891891892\n",
            "Predicted REQUIRED:  25 , Percent:  67.56756756756756\n",
            "Total number of truly REQUIRED:  37\n",
            "Macro F1:  0.8377019405410573\n",
            "True Macro F1 (Middle-Centroid):  0.6535464535464535\n",
            "True Macro F1 (Average-Centroid):  0.756821733381416\n"
          ]
        },
        {
          "output_type": "display_data",
          "data": {
            "text/plain": [
              "<Figure size 432x288 with 0 Axes>"
            ]
          },
          "metadata": {}
        },
        {
          "output_type": "display_data",
          "data": {
            "text/plain": [
              "<Figure size 432x288 with 1 Axes>"
            ],
            "image/png": "[encoded data removed]"
          },
          "metadata": {
            "needs_background": "light"
          }
        }
      ]
    },
    {
      "cell_type": "markdown",
      "source": [
        "What if we tried higher powers of confidence?"
      ],
      "metadata": {
        "id": "owNjjvkWRaLT"
      }
    },
    {
      "cell_type": "code",
      "source": [
        "em_steps = 2\n",
        "kmed_steps = 1000"
      ],
      "metadata": {
        "id": "OoqDCVhAc8ik"
      },
      "execution_count": null,
      "outputs": []
    },
    {
      "cell_type": "code",
      "source": [
        "import random\n",
        "from sklearn.metrics import f1_score\n",
        "## We represent confidence as a single matrix. \n",
        "## It has n rows, one for each annotator, and two columns, one for the confidence of predicting 0, another for the confidence of predicting 1.\n",
        "## We initialize our confidence in the predictions of all annotators of 0 or 1 at 1.\n",
        "\n",
        "confidence = np.ones((len(anns), 2)) \n",
        "\n",
        "## Count is accumulated repeatedly. This is an Expectation Step.\n",
        "## This is a normalized weighted vote.\n",
        "plt.figure()\n",
        "\n",
        "frames = []\n",
        "power = 4\n",
        "for em_step in range(em_steps):\n",
        "\n",
        "  count = len(anns) * (np.matmul(doc_anns, np.power(confidence[:, 1],power)) / (np.matmul(doc_anns, np.power(confidence[:, 1], power)) + np.matmul(1 - doc_anns, np.power(confidence[:, 0], power))))\n",
        "\n",
        "  ## Now, we cluster\n",
        "  centroids = random.sample(list(set(count)), 3)\n",
        "\n",
        "  alloc = [0 for i in range(len(count))]\n",
        "\n",
        "  groups = dict()\n",
        "\n",
        "  for i in range(kmed_steps):\n",
        "\n",
        "    centroids = sorted(centroids)\n",
        "\n",
        "    ##Pick the ideal allocation by centroids\n",
        "    ##alloc should be the elements of centroids that each element of count is closest to.\n",
        "    \n",
        "    for c in range(len(count)):\n",
        "\n",
        "      alloc[c] = np.argmin([np.abs(count[c] - centroid) for centroid in centroids])\n",
        "\n",
        "    ##Pick the ideal centroids, will be the median of the counts per allocs.\n",
        "\n",
        "    for centroid_index in range(len(centroids)): #(For each centroid, collect all its assignees, then compute their median as the centroid)\n",
        "      assignees = np.where(np.array(alloc) == centroid_index)[0]\n",
        "      centroids[centroid_index] = np.median(np.array([count[assignee] for assignee in assignees]))\n",
        "      groups[centroid_index] =  list(assignees)\n",
        "\n",
        "  ##Maximization Step:\n",
        "\n",
        "  lum = set(groups[0]) | set(groups[1])\n",
        "  muh = set(groups[1]) | set(groups[2])\n",
        "  assert len(lum) + len(muh) >= len(graded_docs)\n",
        "  confidence[:, 0] = np.sum(1 - np.array([doc_anns[j, :] for j in lum]), axis = 0)/np.sum(1 - doc_anns, axis = 0)\n",
        "  confidence[:, 1] = np.sum(np.array([doc_anns[j, :] for j in muh]), axis = 0)/np.sum(doc_anns, axis = 0)\n",
        "\n",
        "  low = [i for i in range(len(graded_docs)) if grades[i] == 0]\n",
        "  hi = [i for i in range(len(graded_docs)) if grades[i] == 2]\n",
        "  mid = [i for i in range(len(graded_docs)) if grades[i] == 1]\n",
        "  #plt.hlines(1, 1, 100)  # Draw a horizontal line\n",
        "\n",
        "  low_counts = [count[i] for i in low]\n",
        "  mid_counts = [count[i] for i in mid]\n",
        "  hi_counts = [count[i] for i in hi]\n",
        "\n",
        "  centroid_boundaries = [(centroids[0] + centroids[1])/2, (centroids[1] + centroids[2])/2]\n",
        "\n",
        "  fig1, ax1 = plt.subplots()\n",
        "  ax1.set_title('BoxPlot of Group vs Score')\n",
        "  print(\"Centroids: \", centroids)\n",
        "  print(\"Centroid Boundaries: \", centroid_boundaries)\n",
        "  ax1.boxplot(np.array([low_counts, mid_counts, hi_counts], dtype = object).T)\n",
        "  \n",
        "  ax1.hlines(centroid_boundaries[0], 0, 4)  # Draw a horizontal line\n",
        "  ax1.hlines(centroid_boundaries[1], 0, 4)  # Draw a horizontal line\n",
        "\n",
        "  print(\"\\nTruly NOT RELEVANT:\")\n",
        "  not_rel_zero = len([1 for count_index in low if count_index in groups[0]])\n",
        "  not_rel_one = len([1 for count_index in low if count_index in groups[1]])\n",
        "  not_rel_two = len([1 for count_index in low if count_index in groups[2]])\n",
        "  not_rel = len(low)\n",
        "  print(\"Predicted NOT RELEVANT: \", not_rel_zero, \", Percent: \", 100 * not_rel_zero/not_rel)\n",
        "  print(\"Predicted RELEVANT: \", not_rel_one, \", Percent: \", 100 * not_rel_one/not_rel)\n",
        "  print(\"Predicted REQUIRED: \", not_rel_two, \", Percent: \", 100 * not_rel_two/not_rel)\n",
        "  print(\"Total number of truly NOT RELEVANT: \", not_rel)\n",
        "\n",
        "  print(\"\\nTruly RELEVANT:\")\n",
        "  rel_zero = len([1 for count_index in mid if count_index in groups[0]])\n",
        "  rel_one = len([1 for count_index in mid if count_index in groups[1]])\n",
        "  rel_two = len([1 for count_index in mid if count_index in groups[2]])\n",
        "  rel = len(mid)\n",
        "  print(\"Predicted NOT RELEVANT: \", rel_zero, \", Percent: \", 100 * rel_zero/rel)\n",
        "  print(\"Predicted RELEVANT: \", rel_one, \", Percent: \", 100 * rel_one/rel)\n",
        "  print(\"Predicted REQUIRED: \", rel_two, \", Percent: \", 100 * rel_two/rel)\n",
        "  print(\"Total number of truly RELEVANT: \", rel)\n",
        "\n",
        "  print(\"\\nTruly REQUIRED:\")\n",
        "  req_zero = len([1 for count_index in hi if count_index in groups[0]])\n",
        "  req_one = len([1 for count_index in hi if count_index in groups[1]])\n",
        "  req_two = len([1 for count_index in hi if count_index in groups[2]])\n",
        "  req = len(hi)\n",
        "  print(\"Predicted NOT RELEVANT: \", req_zero, \", Percent: \", 100 * req_zero/req)\n",
        "  print(\"Predicted RELEVANT: \", req_one, \", Percent: \", 100 * req_one/req)\n",
        "  print(\"Predicted REQUIRED: \", req_two, \", Percent: \", 100 * req_two/req)\n",
        "  print(\"Total number of truly REQUIRED: \", req)\n",
        "  \n",
        "  ##Class Non-Relevant:\n",
        "  ##Precision: TP/(TP + FP)\n",
        "  try:\n",
        "    non_rel_prec = len([1 for i in low if i in set(groups[0])|set(groups[1])])/len(groups[0])\n",
        "    ##Recall: TP/(TP + FN)\n",
        "    non_rel_recall = len([1 for i in low if i in set(groups[0])|set(groups[1])])/len(low)\n",
        "    non_rel_f1 = (2 * non_rel_prec * non_rel_recall)/(non_rel_prec + non_rel_recall)\n",
        "\n",
        "    ##Class Required:\n",
        "    ##Precision: TP/(TP + FP)\n",
        "    req_prec = len([1 for i in hi if i in set(groups[2])|set(groups[1])])/len(groups[2])\n",
        "    ##Recall: TP/(TP + FN)\n",
        "    req_recall = len([1 for i in hi if i in set(groups[2])|set(groups[1])])/len(hi)\n",
        "    req_f1 = (2 * req_prec * req_recall)/(req_prec + req_recall)\n",
        "    print(\"Macro F1: \", (req_f1 + non_rel_f1)/2)\n",
        "    predicted_grades = []\n",
        "    predicted_grades_2 = []\n",
        "    for i in range(len(count)):\n",
        "      icount = count[i]\n",
        "      mid_centroid = centroids[1]\n",
        "      avg_centroid = (centroids[0] + centroids[2])/2\n",
        "      if(icount <= mid_centroid):\n",
        "        predicted_grades.append(0)\n",
        "      elif(icount > mid_centroid):\n",
        "        predicted_grades.append(1)\n",
        "      if(icount <= avg_centroid):\n",
        "        predicted_grades_2.append(0)\n",
        "      elif(icount > avg_centroid):\n",
        "        predicted_grades_2.append(1)\n",
        "\n",
        "    grades = np.array(grades)\n",
        "    test = grades != 1\n",
        "    pred_grad = np.array(predicted_grades)\n",
        "    pred_grad_2 = np.array(predicted_grades_2)\n",
        "    bin_grad = grades.copy()\n",
        "    bin_grad[grades >= 1] = 1 \n",
        "    print(\"True Macro F1 (Middle-Centroid): \", f1_score(bin_grad[test], pred_grad[test], average = \"macro\"))\n",
        "    print(\"True Macro F1 (Average-Centroid): \", f1_score(bin_grad[test], pred_grad_2[test], average = \"macro\"))\n",
        "    plt.show()\n",
        "\n",
        "  except:\n",
        "    print(\"Some group was empty\")\n",
        "\n",
        "for c in range(len(count)):\n",
        "  alloc[c] = centroids[alloc[c]]"
      ],
      "metadata": {
        "id": "wsoHjgSrpoSi",
        "colab": {
          "base_uri": "https://localhost:8080/",
          "height": 1000
        },
        "outputId": "2fddb2c5-81fe-4a81-e766-635682a27ddf"
      },
      "execution_count": null,
      "outputs": [
        {
          "output_type": "stream",
          "name": "stdout",
          "text": [
            "Centroids:  [1.0, 6.0, 14.0]\n",
            "Centroid Boundaries:  [3.5, 10.0]\n",
            "\n",
            "Truly NOT RELEVANT:\n",
            "Predicted NOT RELEVANT:  357 , Percent:  65.98890942698706\n",
            "Predicted RELEVANT:  167 , Percent:  30.868761552680223\n",
            "Predicted REQUIRED:  17 , Percent:  3.142329020332717\n",
            "Total number of truly NOT RELEVANT:  541\n",
            "\n",
            "Truly RELEVANT:\n",
            "Predicted NOT RELEVANT:  31 , Percent:  30.097087378640776\n",
            "Predicted RELEVANT:  55 , Percent:  53.398058252427184\n",
            "Predicted REQUIRED:  17 , Percent:  16.50485436893204\n",
            "Total number of truly RELEVANT:  103\n",
            "\n",
            "Truly REQUIRED:\n",
            "Predicted NOT RELEVANT:  4 , Percent:  10.81081081081081\n",
            "Predicted RELEVANT:  13 , Percent:  35.13513513513514\n",
            "Predicted REQUIRED:  20 , Percent:  54.054054054054056\n",
            "Total number of truly REQUIRED:  37\n",
            "Macro F1:  0.9242665159063873\n",
            "True Macro F1 (Middle-Centroid):  0.6928607151787947\n",
            "True Macro F1 (Average-Centroid):  0.7328802501019437\n"
          ]
        },
        {
          "output_type": "display_data",
          "data": {
            "text/plain": [
              "<Figure size 432x288 with 0 Axes>"
            ]
          },
          "metadata": {}
        },
        {
          "output_type": "display_data",
          "data": {
            "text/plain": [
              "<Figure size 432x288 with 1 Axes>"
            ],
            "image/png": "[encoded data removed]"
          },
          "metadata": {
            "needs_background": "light"
          }
        },
        {
          "output_type": "stream",
          "name": "stdout",
          "text": [
            "Centroids:  [0.590636895626712, 3.5228061886226794, 9.835181592507935]\n",
            "Centroid Boundaries:  [2.056721542124696, 6.678993890565307]\n",
            "\n",
            "Truly NOT RELEVANT:\n",
            "Predicted NOT RELEVANT:  376 , Percent:  69.50092421441775\n",
            "Predicted RELEVANT:  147 , Percent:  27.171903881700555\n",
            "Predicted REQUIRED:  18 , Percent:  3.3271719038817005\n",
            "Total number of truly NOT RELEVANT:  541\n",
            "\n",
            "Truly RELEVANT:\n",
            "Predicted NOT RELEVANT:  34 , Percent:  33.00970873786408\n",
            "Predicted RELEVANT:  49 , Percent:  47.57281553398058\n",
            "Predicted REQUIRED:  20 , Percent:  19.41747572815534\n",
            "Total number of truly RELEVANT:  103\n",
            "\n",
            "Truly REQUIRED:\n",
            "Predicted NOT RELEVANT:  5 , Percent:  13.513513513513514\n",
            "Predicted RELEVANT:  11 , Percent:  29.72972972972973\n",
            "Predicted REQUIRED:  21 , Percent:  56.75675675675676\n",
            "Total number of truly REQUIRED:  37\n",
            "Macro F1:  0.8804044630404464\n",
            "True Macro F1 (Middle-Centroid):  0.6629290921139827\n",
            "True Macro F1 (Average-Centroid):  0.756821733381416\n"
          ]
        },
        {
          "output_type": "display_data",
          "data": {
            "text/plain": [
              "<Figure size 432x288 with 1 Axes>"
            ],
            "image/png": "[encoded data removed]"
          },
          "metadata": {
            "needs_background": "light"
          }
        }
      ]
    },
    {
      "cell_type": "code",
      "source": [
        "np.sum(pred_grad_2)"
      ],
      "metadata": {
        "colab": {
          "base_uri": "https://localhost:8080/"
        },
        "id": "BYd5W5v-EDvN",
        "outputId": "33b2e065-01a7-4fe2-8851-3ff47b7293a0"
      },
      "execution_count": null,
      "outputs": [
        {
          "output_type": "execute_result",
          "data": {
            "text/plain": [
              "85"
            ]
          },
          "metadata": {},
          "execution_count": 15
        }
      ]
    },
    {
      "cell_type": "code",
      "source": [
        "with open(\"/content/drive/Shareddrives/Annota/NLPAI/Data/Phase2Misc/graded_em_labels.txt\", \"w\") as f:\n",
        "  f.write(str(pred_grad_2[0]))\n",
        "  for p in pred_grad_2[1:]:\n",
        "    f.write(\", \" + str(p))"
      ],
      "metadata": {
        "id": "hQGc8sXCFcVf"
      },
      "execution_count": null,
      "outputs": []
    },
    {
      "cell_type": "code",
      "source": [
        "print(np.corrcoef(confidence[:, 0], true_conf[:, 0]))\n",
        "plt.figure()\n",
        "plt.scatter(confidence[:, 0], true_conf[:, 0])\n",
        "plt.show()\n",
        "plt.figure()\n",
        "print(np.corrcoef(confidence[:, 1], true_conf[:, 1]))\n",
        "plt.scatter(confidence[:, 1], true_conf[:, 1])\n",
        "plt.show()"
      ],
      "metadata": {
        "colab": {
          "base_uri": "https://localhost:8080/",
          "height": 586
        },
        "id": "Q92eddtfUGeJ",
        "outputId": "c2ade33a-85ec-42ed-f640-95748ac98ac4"
      },
      "execution_count": null,
      "outputs": [
        {
          "output_type": "stream",
          "name": "stdout",
          "text": [
            "[[1.         0.82743154]\n",
            " [0.82743154 1.        ]]\n"
          ]
        },
        {
          "output_type": "display_data",
          "data": {
            "text/plain": [
              "<Figure size 432x288 with 1 Axes>"
            ],
            "image/png": "[encoded data removed]"
          },
          "metadata": {
            "needs_background": "light"
          }
        },
        {
          "output_type": "stream",
          "name": "stdout",
          "text": [
            "[[1.        0.7484979]\n",
            " [0.7484979 1.       ]]\n"
          ]
        },
        {
          "output_type": "display_data",
          "data": {
            "text/plain": [
              "<Figure size 432x288 with 1 Axes>"
            ],
            "image/png": "[encoded data removed]"
          },
          "metadata": {
            "needs_background": "light"
          }
        }
      ]
    },
    {
      "cell_type": "markdown",
      "source": [
        "What if we used a threshold? If confidence > 0.5, leave it, else drop to 0. confidence = confidence * (confidence > 0.5)"
      ],
      "metadata": {
        "id": "p9c1Enzf5nRu"
      }
    },
    {
      "cell_type": "code",
      "source": [
        "em_steps = 2"
      ],
      "metadata": {
        "id": "yxLw_R7M8uOg"
      },
      "execution_count": null,
      "outputs": []
    },
    {
      "cell_type": "code",
      "source": [
        "import random\n",
        "from sklearn.metrics import f1_score\n",
        "## We represent confidence as a single matrix. \n",
        "## It has n rows, one for each annotator, and two columns, one for the confidence of predicting 0, another for the confidence of predicting 1.\n",
        "## We initialize our confidence in the predictions of all annotators of 0 or 1 at 1.\n",
        "\n",
        "confidence = np.ones((len(anns), 2)) \n",
        "\n",
        "## Count is accumulated repeatedly. This is an Expectation Step.\n",
        "## This is a normalized weighted vote.\n",
        "plt.figure()\n",
        "\n",
        "frames = []\n",
        "power = 1\n",
        "for em_step in range(em_steps):\n",
        "\n",
        "  count = len(anns) * (np.matmul(doc_anns, np.power(confidence[:, 1],power)) / (np.matmul(doc_anns, np.power(confidence[:, 1], power)) + np.matmul(1 - doc_anns, np.power(confidence[:, 0], power))))\n",
        "\n",
        "  ## Now, we cluster\n",
        "  centroids = random.sample(set(count), 3)\n",
        "  print(\"Init Centroids: \", centroids)\n",
        "\n",
        "  alloc = [0 for i in range(len(count))]\n",
        "\n",
        "  groups = dict()\n",
        "\n",
        "  for i in range(kmed_steps):\n",
        "\n",
        "    centroids = sorted(centroids)\n",
        "\n",
        "    ##Pick the ideal allocation by centroids\n",
        "    ##alloc should be the elements of centroids that each element of count is closest to.\n",
        "    \n",
        "    for c in range(len(count)):\n",
        "\n",
        "      alloc[c] = np.argmin([(count[c] - centroid)**2 for centroid in centroids])\n",
        "\n",
        "    ##Pick the ideal centroids, will be the median of the counts per allocs.\n",
        "\n",
        "    for centroid_index in range(len(centroids)): #(For each centroid, collect all its assignees, then compute their median as the centroid)\n",
        "      assignees = np.where(np.array(alloc) == centroid_index)[0]\n",
        "      centroids[centroid_index] = np.median(np.array([count[assignee] for assignee in assignees]))\n",
        "      groups[centroid_index] =  list(assignees)\n",
        "      try:\n",
        "        assert len(assignees) != 0\n",
        "      except:\n",
        "        print((centroid_index, centroids[centroid_index]))\n",
        "        for cent in range(centroid_index):\n",
        "          print(cent, \":\", groups[cent])\n",
        "\n",
        "  ##Maximization Step:\n",
        "\n",
        "  lum = set(groups[0]) | set(groups[1])\n",
        "  muh = set(groups[1]) | set(groups[2])\n",
        "  assert len(lum) + len(muh) >= len(graded_docs)\n",
        "  confidence[:, 0] = np.sum(1 - np.array([doc_anns[j, :] for j in lum]), axis = 0)/np.sum(1 - doc_anns, axis = 0)\n",
        "  confidence[:, 1] = np.sum(np.array([doc_anns[j, :] for j in muh]), axis = 0)/np.sum(doc_anns, axis = 0)\n",
        "\n",
        "  confidence = np.multiply(confidence, confidence >= 0.5)\n",
        "\n",
        "  low = [i for i in range(len(graded_docs)) if grades[i] == 0]\n",
        "  hi = [i for i in range(len(graded_docs)) if grades[i] == 2]\n",
        "  mid = [i for i in range(len(graded_docs)) if grades[i] == 1]\n",
        "  #plt.hlines(1, 1, 100)  # Draw a horizontal line\n",
        "\n",
        "  low_counts = [count[i] for i in low]\n",
        "  mid_counts = [count[i] for i in mid]\n",
        "  hi_counts = [count[i] for i in hi]\n",
        "\n",
        "  centroid_boundaries = [(centroids[0] + centroids[1])/2, (centroids[1] + centroids[2])/2]\n",
        "\n",
        "  fig1, ax1 = plt.subplots()\n",
        "  ax1.set_title('BoxPlot of Group vs Score')\n",
        "  print(\"Centroids: \", centroids)\n",
        "  print(\"Centroid Boundaries: \", centroid_boundaries)\n",
        "  ax1.boxplot(np.array([low_counts, mid_counts, hi_counts], dtype = object).T)\n",
        "  \n",
        "  ax1.hlines(centroid_boundaries[0], 0, 4)  # Draw a horizontal line\n",
        "  ax1.hlines(centroid_boundaries[1], 0, 4)  # Draw a horizontal line\n",
        "\n",
        "  print(\"\\nTruly NOT RELEVANT:\")\n",
        "  not_rel_zero = len([1 for count_index in low if count_index in groups[0]])\n",
        "  not_rel_one = len([1 for count_index in low if count_index in groups[1]])\n",
        "  not_rel_two = len([1 for count_index in low if count_index in groups[2]])\n",
        "  not_rel = len(low)\n",
        "  print(\"Predicted NOT RELEVANT: \", not_rel_zero, \", Percent: \", 100 * not_rel_zero/not_rel)\n",
        "  print(\"Predicted RELEVANT: \", not_rel_one, \", Percent: \", 100 * not_rel_one/not_rel)\n",
        "  print(\"Predicted REQUIRED: \", not_rel_two, \", Percent: \", 100 * not_rel_two/not_rel)\n",
        "  print(\"Total number of truly NOT RELEVANT: \", not_rel)\n",
        "\n",
        "  print(\"\\nTruly RELEVANT:\")\n",
        "  rel_zero = len([1 for count_index in mid if count_index in groups[0]])\n",
        "  rel_one = len([1 for count_index in mid if count_index in groups[1]])\n",
        "  rel_two = len([1 for count_index in mid if count_index in groups[2]])\n",
        "  rel = len(mid)\n",
        "  print(\"Predicted NOT RELEVANT: \", rel_zero, \", Percent: \", 100 * rel_zero/rel)\n",
        "  print(\"Predicted RELEVANT: \", rel_one, \", Percent: \", 100 * rel_one/rel)\n",
        "  print(\"Predicted REQUIRED: \", rel_two, \", Percent: \", 100 * rel_two/rel)\n",
        "  print(\"Total number of truly RELEVANT: \", rel)\n",
        "\n",
        "  print(\"\\nTruly REQUIRED:\")\n",
        "  req_zero = len([1 for count_index in hi if count_index in groups[0]])\n",
        "  req_one = len([1 for count_index in hi if count_index in groups[1]])\n",
        "  req_two = len([1 for count_index in hi if count_index in groups[2]])\n",
        "  req = len(hi)\n",
        "  print(\"Predicted NOT RELEVANT: \", req_zero, \", Percent: \", 100 * req_zero/req)\n",
        "  print(\"Predicted RELEVANT: \", req_one, \", Percent: \", 100 * req_one/req)\n",
        "  print(\"Predicted REQUIRED: \", req_two, \", Percent: \", 100 * req_two/req)\n",
        "  print(\"Total number of truly REQUIRED: \", req)\n",
        "  \n",
        "  ##Class Non-Relevant:\n",
        "  ##Precision: TP/(TP + FP)\n",
        "  try:\n",
        "    non_rel_prec = len([1 for i in low if i in set(groups[0])|set(groups[1])])/len(groups[0])\n",
        "    ##Recall: TP/(TP + FN)\n",
        "    non_rel_recall = len([1 for i in low if i in set(groups[0])|set(groups[1])])/len(low)\n",
        "    non_rel_f1 = (2 * non_rel_prec * non_rel_recall)/(non_rel_prec + non_rel_recall)\n",
        "\n",
        "    ##Class Required:\n",
        "    ##Precision: TP/(TP + FP)\n",
        "    req_prec = len([1 for i in hi if i in set(groups[2])|set(groups[1])])/len(groups[2])\n",
        "    ##Recall: TP/(TP + FN)\n",
        "    req_recall = len([1 for i in hi if i in set(groups[2])|set(groups[1])])/len(hi)\n",
        "    req_f1 = (2 * req_prec * req_recall)/(req_prec + req_recall)\n",
        "    print(\"Macro F1: \", (req_f1 + non_rel_f1)/2)\n",
        "    predicted_grades = []\n",
        "    predicted_grades_2 = []\n",
        "    for i in range(len(count)):\n",
        "      icount = count[i]\n",
        "      mid_centroid = centroids[1]\n",
        "      avg_centroid = (centroids[0] + centroids[2])/2\n",
        "      if(icount <= mid_centroid):\n",
        "        predicted_grades.append(0)\n",
        "      elif(icount > mid_centroid):\n",
        "        predicted_grades.append(1)\n",
        "      if(icount <= avg_centroid):\n",
        "        predicted_grades_2.append(0)\n",
        "      elif(icount > avg_centroid):\n",
        "        predicted_grades_2.append(1)\n",
        "\n",
        "    grades = np.array(grades)\n",
        "    test = grades != 1\n",
        "    pred_grad = np.array(predicted_grades)\n",
        "    pred_grad_2 = np.array(predicted_grades_2)\n",
        "    bin_grad = grades.copy()\n",
        "    bin_grad[grades >= 1] = 1 \n",
        "    print(\"True Macro F1 (Middle-Centroid): \", f1_score(bin_grad[test], pred_grad[test], average = \"macro\"))\n",
        "    print(\"True Macro F1 (Average-Centroid): \", f1_score(bin_grad[test], pred_grad_2[test], average = \"macro\"))\n",
        "    plt.show()\n",
        "\n",
        "  except:\n",
        "    print(\"Some group was empty\")\n",
        "for c in range(len(count)):\n",
        "  alloc[c] = centroids[alloc[c]]"
      ],
      "metadata": {
        "colab": {
          "base_uri": "https://localhost:8080/",
          "height": 1000
        },
        "id": "PIHpUJnq6JyV",
        "outputId": "6ee1a266-3e34-4183-bfec-278210e1802c"
      },
      "execution_count": null,
      "outputs": [
        {
          "output_type": "stream",
          "name": "stdout",
          "text": [
            "Init Centroids:  [10.0, 1.0, 18.0]\n",
            "Centroids:  [1.0, 6.0, 14.0]\n",
            "Centroid Boundaries:  [3.5, 10.0]\n",
            "\n",
            "Truly NOT RELEVANT:\n",
            "Predicted NOT RELEVANT:  357 , Percent:  65.98890942698706\n",
            "Predicted RELEVANT:  167 , Percent:  30.868761552680223\n",
            "Predicted REQUIRED:  17 , Percent:  3.142329020332717\n",
            "Total number of truly NOT RELEVANT:  541\n",
            "\n",
            "Truly RELEVANT:\n",
            "Predicted NOT RELEVANT:  31 , Percent:  30.097087378640776\n",
            "Predicted RELEVANT:  55 , Percent:  53.398058252427184\n",
            "Predicted REQUIRED:  17 , Percent:  16.50485436893204\n",
            "Total number of truly RELEVANT:  103\n",
            "\n",
            "Truly REQUIRED:\n",
            "Predicted NOT RELEVANT:  4 , Percent:  10.81081081081081\n",
            "Predicted RELEVANT:  13 , Percent:  35.13513513513514\n",
            "Predicted REQUIRED:  20 , Percent:  54.054054054054056\n",
            "Total number of truly REQUIRED:  37\n",
            "Macro F1:  0.9242665159063873\n",
            "True Macro F1 (Middle-Centroid):  0.6928607151787947\n",
            "True Macro F1 (Average-Centroid):  0.7328802501019437\n"
          ]
        },
        {
          "output_type": "display_data",
          "data": {
            "text/plain": [
              "<Figure size 432x288 with 0 Axes>"
            ]
          },
          "metadata": {}
        },
        {
          "output_type": "display_data",
          "data": {
            "text/plain": [
              "<Figure size 432x288 with 1 Axes>"
            ],
            "image/png": "[encoded data removed]"
          },
          "metadata": {
            "needs_background": "light"
          }
        },
        {
          "output_type": "stream",
          "name": "stdout",
          "text": [
            "Init Centroids:  [4.123173975045005, 6.987551095558052, 4.27759348370393]\n",
            "Centroids:  [0.8578674702271064, 4.591659696095983, 12.05182055352665]\n",
            "Centroid Boundaries:  [2.7247635831615447, 8.321740124811317]\n",
            "\n",
            "Truly NOT RELEVANT:\n",
            "Predicted NOT RELEVANT:  356 , Percent:  65.80406654343808\n",
            "Predicted RELEVANT:  165 , Percent:  30.499075785582257\n",
            "Predicted REQUIRED:  20 , Percent:  3.6968576709796674\n",
            "Total number of truly NOT RELEVANT:  541\n",
            "\n",
            "Truly RELEVANT:\n",
            "Predicted NOT RELEVANT:  30 , Percent:  29.12621359223301\n",
            "Predicted RELEVANT:  52 , Percent:  50.48543689320388\n",
            "Predicted REQUIRED:  21 , Percent:  20.388349514563107\n",
            "Total number of truly RELEVANT:  103\n",
            "\n",
            "Truly REQUIRED:\n",
            "Predicted NOT RELEVANT:  4 , Percent:  10.81081081081081\n",
            "Predicted RELEVANT:  10 , Percent:  27.027027027027028\n",
            "Predicted REQUIRED:  23 , Percent:  62.16216216216216\n",
            "Total number of truly REQUIRED:  37\n",
            "Macro F1:  0.8863459922791419\n",
            "True Macro F1 (Middle-Centroid):  0.6393280571361494\n",
            "True Macro F1 (Average-Centroid):  0.7344500989539158\n"
          ]
        },
        {
          "output_type": "display_data",
          "data": {
            "text/plain": [
              "<Figure size 432x288 with 1 Axes>"
            ],
            "image/png": "[encoded data removed]"
          },
          "metadata": {
            "needs_background": "light"
          }
        }
      ]
    },
    {
      "cell_type": "code",
      "source": [
        "import random\n",
        "from sklearn.metrics import f1_score\n",
        "## We represent confidence as a single matrix. \n",
        "## It has n rows, one for each annotator, and two columns, one for the confidence of predicting 0, another for the confidence of predicting 1.\n",
        "## We initialize our confidence in the predictions of all annotators of 0 or 1 at 1.\n",
        "\n",
        "confidence = true_conf\n",
        "\n",
        "## Count is accumulated repeatedly. This is an Expectation Step.\n",
        "## This is a normalized weighted vote.\n",
        "plt.figure()\n",
        "\n",
        "frames = []\n",
        "power = 1\n",
        "for em_step in range(2):\n",
        "\n",
        "  count = len(anns) * (np.matmul(doc_anns, np.power(confidence[:, 1],power)) / (np.matmul(doc_anns, np.power(confidence[:, 1], power)) + np.matmul(1 - doc_anns, np.power(confidence[:, 0], power))))\n",
        "\n",
        "  ## Now, we cluster\n",
        "  centroids = random.sample(set(count), 3)\n",
        "  print(\"Init Centroids: \", centroids)\n",
        "\n",
        "  alloc = [0 for i in range(len(count))]\n",
        "\n",
        "  groups = dict()\n",
        "\n",
        "  for i in range(kmed_steps):\n",
        "\n",
        "    centroids = sorted(centroids)\n",
        "\n",
        "    ##Pick the ideal allocation by centroids\n",
        "    ##alloc should be the elements of centroids that each element of count is closest to.\n",
        "    \n",
        "    for c in range(len(count)):\n",
        "\n",
        "      alloc[c] = np.argmin([(count[c] - centroid)**2 for centroid in centroids])\n",
        "\n",
        "    ##Pick the ideal centroids, will be the median of the counts per allocs.\n",
        "\n",
        "    for centroid_index in range(len(centroids)): #(For each centroid, collect all its assignees, then compute their median as the centroid)\n",
        "      assignees = np.where(np.array(alloc) == centroid_index)[0]\n",
        "      centroids[centroid_index] = np.median(np.array([count[assignee] for assignee in assignees]))\n",
        "      groups[centroid_index] =  list(assignees)\n",
        "      try:\n",
        "        assert len(assignees) != 0\n",
        "      except:\n",
        "        print((centroid_index, centroids[centroid_index]))\n",
        "        for cent in range(centroid_index):\n",
        "          print(cent, \":\", groups[cent])\n",
        "\n",
        "  ##Maximization Step:\n",
        "\n",
        "  lum = set(groups[0]) | set(groups[1])\n",
        "  muh = set(groups[1]) | set(groups[2])\n",
        "  assert len(lum) + len(muh) >= len(graded_docs)\n",
        "  #confidence[:, 0] = np.sum(1 - np.array([doc_anns[j, :] for j in lum]), axis = 0)/np.sum(1 - doc_anns, axis = 0)\n",
        "  #confidence[:, 1] = np.sum(np.array([doc_anns[j, :] for j in muh]), axis = 0)/np.sum(doc_anns, axis = 0)\n",
        "\n",
        "  confidence = np.multiply(confidence, confidence >= 0.5)\n",
        "\n",
        "  low = [i for i in range(len(graded_docs)) if grades[i] == 0]\n",
        "  hi = [i for i in range(len(graded_docs)) if grades[i] == 2]\n",
        "  mid = [i for i in range(len(graded_docs)) if grades[i] == 1]\n",
        "  #plt.hlines(1, 1, 100)  # Draw a horizontal line\n",
        "\n",
        "  low_counts = [count[i] for i in low]\n",
        "  mid_counts = [count[i] for i in mid]\n",
        "  hi_counts = [count[i] for i in hi]\n",
        "\n",
        "  centroid_boundaries = [(centroids[0] + centroids[1])/2, (centroids[1] + centroids[2])/2]\n",
        "\n",
        "  fig1, ax1 = plt.subplots()\n",
        "  ax1.set_title('BoxPlot of Group vs Score')\n",
        "  print(\"Centroids: \", centroids)\n",
        "  print(\"Centroid Boundaries: \", centroid_boundaries)\n",
        "  ax1.boxplot(np.array([low_counts, mid_counts, hi_counts], dtype = object).T)\n",
        "  \n",
        "  ax1.hlines(centroid_boundaries[0], 0, 4)  # Draw a horizontal line\n",
        "  ax1.hlines(centroid_boundaries[1], 0, 4)  # Draw a horizontal line\n",
        "\n",
        "  print(\"\\nTruly NOT RELEVANT:\")\n",
        "  not_rel_zero = len([1 for count_index in low if count_index in groups[0]])\n",
        "  not_rel_one = len([1 for count_index in low if count_index in groups[1]])\n",
        "  not_rel_two = len([1 for count_index in low if count_index in groups[2]])\n",
        "  not_rel = len(low)\n",
        "  print(\"Predicted NOT RELEVANT: \", not_rel_zero, \", Percent: \", 100 * not_rel_zero/not_rel)\n",
        "  print(\"Predicted RELEVANT: \", not_rel_one, \", Percent: \", 100 * not_rel_one/not_rel)\n",
        "  print(\"Predicted REQUIRED: \", not_rel_two, \", Percent: \", 100 * not_rel_two/not_rel)\n",
        "  print(\"Total number of truly NOT RELEVANT: \", not_rel)\n",
        "\n",
        "  print(\"\\nTruly RELEVANT:\")\n",
        "  rel_zero = len([1 for count_index in mid if count_index in groups[0]])\n",
        "  rel_one = len([1 for count_index in mid if count_index in groups[1]])\n",
        "  rel_two = len([1 for count_index in mid if count_index in groups[2]])\n",
        "  rel = len(mid)\n",
        "  print(\"Predicted NOT RELEVANT: \", rel_zero, \", Percent: \", 100 * rel_zero/rel)\n",
        "  print(\"Predicted RELEVANT: \", rel_one, \", Percent: \", 100 * rel_one/rel)\n",
        "  print(\"Predicted REQUIRED: \", rel_two, \", Percent: \", 100 * rel_two/rel)\n",
        "  print(\"Total number of truly RELEVANT: \", rel)\n",
        "\n",
        "  print(\"\\nTruly REQUIRED:\")\n",
        "  req_zero = len([1 for count_index in hi if count_index in groups[0]])\n",
        "  req_one = len([1 for count_index in hi if count_index in groups[1]])\n",
        "  req_two = len([1 for count_index in hi if count_index in groups[2]])\n",
        "  req = len(hi)\n",
        "  print(\"Predicted NOT RELEVANT: \", req_zero, \", Percent: \", 100 * req_zero/req)\n",
        "  print(\"Predicted RELEVANT: \", req_one, \", Percent: \", 100 * req_one/req)\n",
        "  print(\"Predicted REQUIRED: \", req_two, \", Percent: \", 100 * req_two/req)\n",
        "  print(\"Total number of truly REQUIRED: \", req)\n",
        "  \n",
        "  ##Class Non-Relevant:\n",
        "  ##Precision: TP/(TP + FP)\n",
        "  try:\n",
        "    non_rel_prec = len([1 for i in low if i in set(groups[0])|set(groups[1])])/len(groups[0])\n",
        "    ##Recall: TP/(TP + FN)\n",
        "    non_rel_recall = len([1 for i in low if i in set(groups[0])|set(groups[1])])/len(low)\n",
        "    non_rel_f1 = (2 * non_rel_prec * non_rel_recall)/(non_rel_prec + non_rel_recall)\n",
        "\n",
        "    ##Class Required:\n",
        "    ##Precision: TP/(TP + FP)\n",
        "    req_prec = len([1 for i in hi if i in set(groups[2])|set(groups[1])])/len(groups[2])\n",
        "    ##Recall: TP/(TP + FN)\n",
        "    req_recall = len([1 for i in hi if i in set(groups[2])|set(groups[1])])/len(hi)\n",
        "    req_f1 = (2 * req_prec * req_recall)/(req_prec + req_recall)\n",
        "    print(\"Macro F1: \", (req_f1 + non_rel_f1)/2)\n",
        "    predicted_grades = []\n",
        "    predicted_grades_2 = []\n",
        "    for i in range(len(count)):\n",
        "      icount = count[i]\n",
        "      mid_centroid = centroids[1]\n",
        "      avg_centroid = (centroids[0] + centroids[2])/2\n",
        "      if(icount <= mid_centroid):\n",
        "        predicted_grades.append(0)\n",
        "      elif(icount > mid_centroid):\n",
        "        predicted_grades.append(1)\n",
        "      if(icount <= avg_centroid):\n",
        "        predicted_grades_2.append(0)\n",
        "      elif(icount > avg_centroid):\n",
        "        predicted_grades_2.append(1)\n",
        "\n",
        "    grades = np.array(grades)\n",
        "    test = grades != 1\n",
        "    pred_grad = np.array(predicted_grades)\n",
        "    pred_grad_2 = np.array(predicted_grades_2)\n",
        "    bin_grad = grades.copy()\n",
        "    bin_grad[grades >= 1] = 1 \n",
        "    print(\"True Macro F1 (Middle-Centroid): \", f1_score(bin_grad[test], pred_grad[test], average = \"macro\"))\n",
        "    print(\"True Macro F1 (Average-Centroid): \", f1_score(bin_grad[test], pred_grad_2[test], average = \"macro\"))\n",
        "    plt.show()\n",
        "\n",
        "  except:\n",
        "    print(\"Some group was empty\")\n",
        "for c in range(len(count)):\n",
        "  alloc[c] = centroids[alloc[c]]"
      ],
      "metadata": {
        "colab": {
          "base_uri": "https://localhost:8080/",
          "height": 1000
        },
        "id": "hiRHiUsXKzIU",
        "outputId": "57a22e46-f4b0-4b2b-acfa-a28cffd55e54"
      },
      "execution_count": null,
      "outputs": [
        {
          "output_type": "stream",
          "name": "stdout",
          "text": [
            "Init Centroids:  [2.5757569928156157, 5.053706494598791, 3.0281428254205376]\n",
            "Centroids:  [0.47103275851469356, 2.836149326826039, 8.504924953887883]\n",
            "Centroid Boundaries:  [1.6535910426703662, 5.670537140356961]\n",
            "\n",
            "Truly NOT RELEVANT:\n",
            "Predicted NOT RELEVANT:  359 , Percent:  66.35859519408503\n",
            "Predicted RELEVANT:  163 , Percent:  30.129390018484287\n",
            "Predicted REQUIRED:  19 , Percent:  3.512014787430684\n",
            "Total number of truly NOT RELEVANT:  541\n",
            "\n",
            "Truly RELEVANT:\n",
            "Predicted NOT RELEVANT:  28 , Percent:  27.184466019417474\n",
            "Predicted RELEVANT:  54 , Percent:  52.42718446601942\n",
            "Predicted REQUIRED:  21 , Percent:  20.388349514563107\n",
            "Total number of truly RELEVANT:  103\n",
            "\n",
            "Truly REQUIRED:\n",
            "Predicted NOT RELEVANT:  4 , Percent:  10.81081081081081\n",
            "Predicted RELEVANT:  10 , Percent:  27.027027027027028\n",
            "Predicted REQUIRED:  23 , Percent:  62.16216216216216\n",
            "Total number of truly REQUIRED:  37\n",
            "Macro F1:  0.8900858369098713\n",
            "True Macro F1 (Middle-Centroid):  0.6427978401323388\n",
            "True Macro F1 (Average-Centroid):  0.771978272084484\n"
          ]
        },
        {
          "output_type": "display_data",
          "data": {
            "text/plain": [
              "<Figure size 432x288 with 0 Axes>"
            ]
          },
          "metadata": {}
        },
        {
          "output_type": "display_data",
          "data": {
            "text/plain": [
              "<Figure size 432x288 with 1 Axes>"
            ],
            "image/png": "[encoded data removed]"
          },
          "metadata": {
            "needs_background": "light"
          }
        },
        {
          "output_type": "stream",
          "name": "stdout",
          "text": [
            "Init Centroids:  [1.3523900092635475, 0.6873154441008743, 0.6660194288354929]\n",
            "Centroids:  [0.0, 0.7368692648164291, 2.898511382740183]\n",
            "Centroid Boundaries:  [0.36843463240821456, 1.8176903237783062]\n",
            "\n",
            "Truly NOT RELEVANT:\n",
            "Predicted NOT RELEVANT:  377 , Percent:  69.68576709796673\n",
            "Predicted RELEVANT:  141 , Percent:  26.062846580406653\n",
            "Predicted REQUIRED:  23 , Percent:  4.251386321626617\n",
            "Total number of truly NOT RELEVANT:  541\n",
            "\n",
            "Truly RELEVANT:\n",
            "Predicted NOT RELEVANT:  33 , Percent:  32.03883495145631\n",
            "Predicted RELEVANT:  45 , Percent:  43.689320388349515\n",
            "Predicted REQUIRED:  25 , Percent:  24.271844660194176\n",
            "Total number of truly RELEVANT:  103\n",
            "\n",
            "Truly REQUIRED:\n",
            "Predicted NOT RELEVANT:  5 , Percent:  13.513513513513514\n",
            "Predicted RELEVANT:  6 , Percent:  16.216216216216218\n",
            "Predicted REQUIRED:  26 , Percent:  70.27027027027027\n",
            "Total number of truly REQUIRED:  37\n",
            "Macro F1:  0.8301292924723888\n",
            "True Macro F1 (Middle-Centroid):  0.6460958396442267\n",
            "True Macro F1 (Average-Centroid):  0.7433555344116713\n"
          ]
        },
        {
          "output_type": "display_data",
          "data": {
            "text/plain": [
              "<Figure size 432x288 with 1 Axes>"
            ],
            "image/png": "[encoded data removed]"
          },
          "metadata": {
            "needs_background": "light"
          }
        }
      ]
    },
    {
      "cell_type": "code",
      "source": [
        "print(np.corrcoef(confidence[:, 0], true_conf[:, 0]))\n",
        "plt.scatter(confidence[:, 0], true_conf[:, 0])"
      ],
      "metadata": {
        "colab": {
          "base_uri": "https://localhost:8080/",
          "height": 320
        },
        "id": "JruUJBRX2R9m",
        "outputId": "a25675e2-4347-4194-9c88-56ddd1b4d682"
      },
      "execution_count": null,
      "outputs": [
        {
          "output_type": "stream",
          "name": "stdout",
          "text": [
            "[[1.         0.79261275]\n",
            " [0.79261275 1.        ]]\n"
          ]
        },
        {
          "output_type": "execute_result",
          "data": {
            "text/plain": [
              "<matplotlib.collections.PathCollection at 0x7fa2f8b2ced0>"
            ]
          },
          "metadata": {},
          "execution_count": 37
        },
        {
          "output_type": "display_data",
          "data": {
            "text/plain": [
              "<Figure size 432x288 with 1 Axes>"
            ],
            "image/png": "[encoded data removed]"
          },
          "metadata": {
            "needs_background": "light"
          }
        }
      ]
    },
    {
      "cell_type": "code",
      "source": [
        "print(np.corrcoef(confidence[:, 1], true_conf[:, 1]))\n",
        "plt.scatter(confidence[:, 1], true_conf[:, 1])"
      ],
      "metadata": {
        "colab": {
          "base_uri": "https://localhost:8080/",
          "height": 320
        },
        "id": "M3avH6QP2Wgx",
        "outputId": "97ff21b1-e73d-4d53-e95f-660573a44584"
      },
      "execution_count": null,
      "outputs": [
        {
          "output_type": "stream",
          "name": "stdout",
          "text": [
            "[[1.         0.75067206]\n",
            " [0.75067206 1.        ]]\n"
          ]
        },
        {
          "output_type": "execute_result",
          "data": {
            "text/plain": [
              "<matplotlib.collections.PathCollection at 0x7fa2f8afb210>"
            ]
          },
          "metadata": {},
          "execution_count": 38
        },
        {
          "output_type": "display_data",
          "data": {
            "text/plain": [
              "<Figure size 432x288 with 1 Axes>"
            ],
            "image/png": "[encoded data removed]"
          },
          "metadata": {
            "needs_background": "light"
          }
        }
      ]
    },
    {
      "cell_type": "code",
      "source": [
        "groups[0] = []\n",
        "groups[1] = []\n",
        "groups[2] = []\n",
        "for i in range(len(grades)):\n",
        "  if(grades[i] == 0):\n",
        "    groups[0].append(i)\n",
        "  elif(grades[i] == 1):\n",
        "    groups[1].append(i)\n",
        "  elif(grades[i] == 2):\n",
        "    groups[2].append(i)\n",
        "    \n",
        "non_rel_prec = len([1 for i in low if i in set(groups[0])|set(groups[1])])/len(groups[0])\n",
        "##Recall: TP/(TP + FN)\n",
        "non_rel_recall = len([1 for i in low if i in set(groups[0])|set(groups[1])])/len(low)\n",
        "non_rel_f1 = (2 * non_rel_prec * non_rel_recall)/(non_rel_prec + non_rel_recall)\n",
        "\n",
        "##Class Required:\n",
        "##Precision: TP/(TP + FP)\n",
        "req_prec = len([1 for i in hi if i in set(groups[2])|set(groups[1])])/len(groups[2])\n",
        "##Recall: TP/(TP + FN)\n",
        "req_recall = len([1 for i in hi if i in set(groups[2])|set(groups[1])])/len(hi)\n",
        "req_f1 = (2 * req_prec * req_recall)/(req_prec + req_recall)"
      ],
      "metadata": {
        "id": "CmvoWNRX8QRP"
      },
      "execution_count": null,
      "outputs": []
    },
    {
      "cell_type": "code",
      "source": [
        "req_f1"
      ],
      "metadata": {
        "colab": {
          "base_uri": "https://localhost:8080/"
        },
        "id": "v3GNKxVjA4N0",
        "outputId": "cd423f3f-5a56-4d11-c986-55a7da6320a6"
      },
      "execution_count": null,
      "outputs": [
        {
          "output_type": "execute_result",
          "data": {
            "text/plain": [
              "1.0"
            ]
          },
          "metadata": {},
          "execution_count": 22
        }
      ]
    },
    {
      "cell_type": "code",
      "source": [
        "predicted_grades = []\n",
        "for i in range(len(count)):\n",
        "  icount = count[i]\n",
        "  mid_centroid = centroids[1]\n",
        "  if(icount <= mid_centroid):\n",
        "    predicted_grades.append(0)\n",
        "  elif(icount > mid_centroid):\n",
        "    predicted_grades.append(1)"
      ],
      "metadata": {
        "id": "o-WtkwLlA5O-"
      },
      "execution_count": null,
      "outputs": []
    },
    {
      "cell_type": "code",
      "source": [
        "predicted_grades[:306]"
      ],
      "metadata": {
        "colab": {
          "base_uri": "https://localhost:8080/"
        },
        "id": "UKmoHtD5uqjV",
        "outputId": "42d1e124-0994-438c-8282-13278e71ba5d"
      },
      "execution_count": null,
      "outputs": [
        {
          "output_type": "execute_result",
          "data": {
            "text/plain": [
              "[1,\n",
              " 1,\n",
              " 0,\n",
              " 1,\n",
              " 1,\n",
              " 1,\n",
              " 1,\n",
              " 1,\n",
              " 0,\n",
              " 0,\n",
              " 0,\n",
              " 1,\n",
              " 1,\n",
              " 1,\n",
              " 0,\n",
              " 1,\n",
              " 1,\n",
              " 1,\n",
              " 1,\n",
              " 1,\n",
              " 0,\n",
              " 1,\n",
              " 1,\n",
              " 0,\n",
              " 1,\n",
              " 1,\n",
              " 1,\n",
              " 0,\n",
              " 1,\n",
              " 1,\n",
              " 1,\n",
              " 1,\n",
              " 0,\n",
              " 1,\n",
              " 0,\n",
              " 0,\n",
              " 1,\n",
              " 1,\n",
              " 0,\n",
              " 1,\n",
              " 0,\n",
              " 1,\n",
              " 0,\n",
              " 1,\n",
              " 1,\n",
              " 1,\n",
              " 0,\n",
              " 0,\n",
              " 1,\n",
              " 0,\n",
              " 0,\n",
              " 1,\n",
              " 0,\n",
              " 0,\n",
              " 1,\n",
              " 0,\n",
              " 0,\n",
              " 0,\n",
              " 0,\n",
              " 0,\n",
              " 0,\n",
              " 0,\n",
              " 0,\n",
              " 0,\n",
              " 0,\n",
              " 0,\n",
              " 1,\n",
              " 1,\n",
              " 0,\n",
              " 0,\n",
              " 0,\n",
              " 1,\n",
              " 0,\n",
              " 0,\n",
              " 0,\n",
              " 0,\n",
              " 0,\n",
              " 0,\n",
              " 1,\n",
              " 1,\n",
              " 1,\n",
              " 0,\n",
              " 0,\n",
              " 0,\n",
              " 1,\n",
              " 0,\n",
              " 0,\n",
              " 0,\n",
              " 0,\n",
              " 0,\n",
              " 0,\n",
              " 0,\n",
              " 0,\n",
              " 0,\n",
              " 0,\n",
              " 0,\n",
              " 0,\n",
              " 0,\n",
              " 0,\n",
              " 0,\n",
              " 0,\n",
              " 0,\n",
              " 0,\n",
              " 0,\n",
              " 0,\n",
              " 0,\n",
              " 0,\n",
              " 0,\n",
              " 0,\n",
              " 0,\n",
              " 0,\n",
              " 0,\n",
              " 0,\n",
              " 0,\n",
              " 0,\n",
              " 0,\n",
              " 0,\n",
              " 1,\n",
              " 0,\n",
              " 1,\n",
              " 1,\n",
              " 0,\n",
              " 1,\n",
              " 1,\n",
              " 1,\n",
              " 0,\n",
              " 0,\n",
              " 0,\n",
              " 0,\n",
              " 0,\n",
              " 1,\n",
              " 1,\n",
              " 0,\n",
              " 1,\n",
              " 0,\n",
              " 1,\n",
              " 0,\n",
              " 0,\n",
              " 0,\n",
              " 0,\n",
              " 0,\n",
              " 0,\n",
              " 1,\n",
              " 0,\n",
              " 0,\n",
              " 0,\n",
              " 0,\n",
              " 0,\n",
              " 0,\n",
              " 0,\n",
              " 0,\n",
              " 0,\n",
              " 0,\n",
              " 0,\n",
              " 0,\n",
              " 0,\n",
              " 0,\n",
              " 0,\n",
              " 0,\n",
              " 0,\n",
              " 0,\n",
              " 0,\n",
              " 0,\n",
              " 0,\n",
              " 0,\n",
              " 0,\n",
              " 0,\n",
              " 0,\n",
              " 0,\n",
              " 0,\n",
              " 0,\n",
              " 0,\n",
              " 0,\n",
              " 0,\n",
              " 0,\n",
              " 1,\n",
              " 0,\n",
              " 0,\n",
              " 0,\n",
              " 1,\n",
              " 0,\n",
              " 1,\n",
              " 1,\n",
              " 0,\n",
              " 1,\n",
              " 0,\n",
              " 1,\n",
              " 1,\n",
              " 0,\n",
              " 1,\n",
              " 0,\n",
              " 1,\n",
              " 0,\n",
              " 1,\n",
              " 0,\n",
              " 0,\n",
              " 0,\n",
              " 0,\n",
              " 0,\n",
              " 1,\n",
              " 0,\n",
              " 0,\n",
              " 0,\n",
              " 0,\n",
              " 0,\n",
              " 1,\n",
              " 0,\n",
              " 1,\n",
              " 0,\n",
              " 0,\n",
              " 1,\n",
              " 0,\n",
              " 0,\n",
              " 0,\n",
              " 0,\n",
              " 0,\n",
              " 0,\n",
              " 0,\n",
              " 0,\n",
              " 1,\n",
              " 0,\n",
              " 0,\n",
              " 0,\n",
              " 0,\n",
              " 0,\n",
              " 0,\n",
              " 0,\n",
              " 0,\n",
              " 0,\n",
              " 0,\n",
              " 0,\n",
              " 0,\n",
              " 0,\n",
              " 0,\n",
              " 0,\n",
              " 0,\n",
              " 0,\n",
              " 0,\n",
              " 0,\n",
              " 0,\n",
              " 0,\n",
              " 0,\n",
              " 0,\n",
              " 0,\n",
              " 0,\n",
              " 1,\n",
              " 0,\n",
              " 0,\n",
              " 1,\n",
              " 0,\n",
              " 1,\n",
              " 0,\n",
              " 0,\n",
              " 0,\n",
              " 0,\n",
              " 0,\n",
              " 0,\n",
              " 0,\n",
              " 0,\n",
              " 0,\n",
              " 0,\n",
              " 0,\n",
              " 0,\n",
              " 1,\n",
              " 1,\n",
              " 0,\n",
              " 0,\n",
              " 1,\n",
              " 0,\n",
              " 0,\n",
              " 1,\n",
              " 0,\n",
              " 1,\n",
              " 0,\n",
              " 0,\n",
              " 1,\n",
              " 0,\n",
              " 1,\n",
              " 1,\n",
              " 0,\n",
              " 0,\n",
              " 0,\n",
              " 0,\n",
              " 1,\n",
              " 0,\n",
              " 0,\n",
              " 0,\n",
              " 0,\n",
              " 0,\n",
              " 0,\n",
              " 0,\n",
              " 0,\n",
              " 0,\n",
              " 0,\n",
              " 0,\n",
              " 0,\n",
              " 0,\n",
              " 0,\n",
              " 0,\n",
              " 0,\n",
              " 0,\n",
              " 0,\n",
              " 0,\n",
              " 1,\n",
              " 0,\n",
              " 0]"
            ]
          },
          "metadata": {},
          "execution_count": 24
        }
      ]
    },
    {
      "cell_type": "code",
      "source": [
        "import matplotlib.pyplot as plt\n",
        "\n",
        "plt.plot()"
      ],
      "metadata": {
        "id": "K06mmVI7utVD"
      },
      "execution_count": null,
      "outputs": []
    }
  ]
}